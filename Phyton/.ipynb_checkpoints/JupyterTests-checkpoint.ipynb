{
 "cells": [
  {
   "cell_type": "code",
   "execution_count": 1,
   "id": "6dc0666b",
   "metadata": {},
   "outputs": [
    {
     "data": {
      "image/png": "[encoded data removed]",
      "text/plain": [
       "<Figure size 432x288 with 1 Axes>"
      ]
     },
     "metadata": {
      "needs_background": "light"
     },
     "output_type": "display_data"
    },
    {
     "data": {
      "application/vnd.jupyter.widget-view+json": {
       "model_id": "6b8bbf4636754d44b2b134ef80f2d290",
       "version_major": 2,
       "version_minor": 0
      },
      "text/plain": [
       "interactive(children=(Text(value='Hi there!', description='x'), Output()), _dom_classes=('widget-interact',))"
      ]
     },
     "metadata": {},
     "output_type": "display_data"
    }
   ],
   "source": [
    "import matplotlib.pyplot as plt\n",
    "from ipywidgets import interact, interactive, fixed, interact_manual\n",
    "import ipywidgets as widgets\n",
    "import numpy as np\n",
    "\n",
    "x1, y1 = [-1, 12], [1, 4]\n",
    "x2, y2 = [1, 10], [3, 2]\n",
    "plt.plot(x1, y1, x2, y2, marker = 'o')\n",
    "plt.show()\n",
    "\n",
    "def f(x):\n",
    "    pass\n",
    "    \n",
    "interact(f, x='Hi there!');"
   ]
  },
  {
   "cell_type": "code",
   "execution_count": 2,
   "id": "14e17764",
   "metadata": {},
   "outputs": [
    {
     "name": "stdout",
     "output_type": "stream",
     "text": [
      "-------------\n",
      "None\n",
      "-------------\n",
      "None\n",
      "-------------\n",
      "Hi\n",
      "Hi2\n",
      "None\n",
      "-------------\n",
      "Hi\n",
      "None\n",
      "-------------\n",
      "Hi\n",
      "Hi2\n",
      "None\n"
     ]
    }
   ],
   "source": [
    "import random\n",
    "\n",
    "def test() -> None:\n",
    "    if random.randrange(0,4):\n",
    "        return None\n",
    "    print(\"Hi\")\n",
    "    if random.randrange(0,2):\n",
    "        return\n",
    "    print(\"Hi2\")\n",
    "\n",
    "for i in range(5):\n",
    "    print(\"-------------\")\n",
    "    print(test())\n"
   ]
  },
  {
   "cell_type": "code",
   "execution_count": 3,
   "id": "fe2278d8",
   "metadata": {},
   "outputs": [
    {
     "name": "stdout",
     "output_type": "stream",
     "text": [
      "['Alex', 'Bill', 'Catherine', 'Andy', 'Molly', 'Rose']\n",
      "Alex\n",
      "Catherine\n",
      "Molly\n",
      "['Bill', 'Catherine', 'Andy', 'Molly']\n",
      "['Alex', 'Bill']\n",
      "['Alex', 'Bill', 'Catherine', 'Andy', 'Molly', 'Amy']\n",
      "['Alex', 'Bill', 'Catherine', 'Andy', 'Molly', 'Amy', 'John']\n",
      "['Bill', 'Catherine', 'Andy', 'Molly', 'Amy', 'John']\n",
      "[1, -2, 4]\n",
      "[1, -2, 4]\n",
      "[ 1 -2  4]\n",
      "[ 1  2 -7]\n",
      "[[0 0 0]\n",
      " [0 0 0]]\n",
      "[0 0 0] [0 0 0]\n"
     ]
    }
   ],
   "source": [
    "# Python Array\n",
    "\n",
    "# Array example with student names\n",
    "\n",
    "students = ['Alex', 'Bill', 'Catherine', 'Andy', 'Molly', 'Rose']\n",
    "\n",
    "print(students)\n",
    "\n",
    "print(students[0])\n",
    "# Print item at index position 2\n",
    "\n",
    "print(students[2])\n",
    "\n",
    "# Print item at index position -2\n",
    "\n",
    "print(students[-2])\n",
    "\n",
    "# Return items between index positions 1 and 5\n",
    "\n",
    "print(students[1:5])\n",
    "\n",
    "# Return first two items in list\n",
    "\n",
    "print(students[:2])\n",
    "\n",
    "# Change item in an array\n",
    "\n",
    "students[5] = \"Amy\"\n",
    "print(students)\n",
    "\n",
    "# Add item to an array\n",
    "\n",
    "students.append('John')\n",
    "print(students)\n",
    "\n",
    "# Remove item from an array\n",
    "\n",
    "students.pop(0)\n",
    "print(students)\n",
    "\n",
    "V = [[1,1], [-2,2], [4,-7]]\n",
    "print([i[0] for i in V])\n",
    "print(list(map(lambda x: x[0], V)))\n",
    "V = np.array([[1,1], [-2,2], [4,-7]])\n",
    "print(V[:,0])\n",
    "print(V[:,1])\n",
    "origin = np.array([[0, 0, 0],[0, 0, 0]])\n",
    "print(origin)\n",
    "print(*origin)"
   ]
  },
  {
   "cell_type": "code",
   "execution_count": 4,
   "id": "de2ac0f0",
   "metadata": {},
   "outputs": [
    {
     "data": {
      "application/vnd.jupyter.widget-view+json": {
       "model_id": "5a51fb4ebf684748adbf209d5c6d1adc",
       "version_major": 2,
       "version_minor": 0
      },
      "text/plain": [
       "interactive(children=(IntSlider(value=0, description='ax', max=10, min=-10), IntSlider(value=0, description='a…"
      ]
     },
     "metadata": {},
     "output_type": "display_data"
    }
   ],
   "source": [
    "import matplotlib.pyplot as plt\n",
    "from ipywidgets import interact, interactive, fixed, interact_manual\n",
    "import ipywidgets as widgets\n",
    "\n",
    "\n",
    "@interact(\n",
    "            ax=widgets.IntSlider(value=0, description='ax', max=10, min=-10),\n",
    "            ay=widgets.IntSlider(value=0, description='ay', max=10, min=-10), bx=5, by=5,\n",
    "    \n",
    "            cx=widgets.IntSlider(value=0, description='ax', max=10, min=-10), cy=5, dx=5, dy=5\n",
    "        )\n",
    "def g(\n",
    "        ax, ay, bx, by,\n",
    "        cx, cy, dx, dy\n",
    "     ):\n",
    "    ab = np.array([[ax, ay], [bx, by]])\n",
    "    cd = np.array([[cx, cy], [dx, dy]])\n",
    "    \n",
    "    print(f\"AB A({ax}, {ay}), B({bx}, {by})\")\n",
    "    print(f\"CD C({cx}, {cy}), D({dx}, {dy})\")\n",
    "    \n",
    "    print(f\"AB ({bx-ax}, {by-ay})\")\n",
    "    print(f\"CD ({dx-cx}, {dy-cy})\")\n",
    "    \n",
    "    plt.plot(ab[:,0], ab[:,1], cd[:,0], cd[:,1], marker = 'o')\n",
    "    plt.show()\n",
    "    \n",
    "    if(by-ay != 0 and dy-cy !=0):\n",
    "        if((bx-ax)/(by-ay) == (dx-cx)/(dy-cy)):\n",
    "            print(\"parallel\")\n",
    "    elif(bx-ax != 0 and dx-cx !=0):\n",
    "        if((by-ay)/(bx-ax) == (dy-cy)/(dx-cx)):\n",
    "            print(\"parallel\")\n",
    "        \n",
    "    if((bx-ax)*(dx-cx)+(by-ay)*(dy-cy) == 0):\n",
    "        print(\"perpendicular\")\n"
   ]
  },
  {
   "cell_type": "code",
   "execution_count": null,
   "id": "9f5bc8de",
   "metadata": {},
   "outputs": [],
   "source": [
    "# Filename: hello.py\n",
    "\n",
    "\"\"\"Simple Hello World example with PyQt5.\"\"\"\n",
    "\n",
    "import sys\n",
    "\n",
    "# 1. Import `QApplication` and all the required widgets\n",
    "from PyQt5 import QtCore, QtGui, QtWidgets\n",
    "\n",
    "from PyQt5.QtWidgets import QApplication\n",
    "from PyQt5.QtWidgets import QLabel\n",
    "from PyQt5.QtWidgets import QWidget\n",
    "from PyQt5.QtWidgets import QGridLayout\n",
    "from PyQt5.QtWidgets import QPushButton\n",
    "\n",
    "# 2. Create an instance of QApplication\n",
    "app = QApplication(sys.argv)\n",
    "\n",
    "# 3. Create an instance of your application's GUI\n",
    "window = QWidget()\n",
    "window.setWindowTitle('PyQt5 App')\n",
    "window.setGeometry(100, 100, 280, 80)\n",
    "window.move(60, 15)\n",
    "# helloMsg = QLabel('<h1>Hello World!</h1>', parent=window)\n",
    "# helloMsg.move(60, 15)\n",
    "\n",
    "def greeting(text):\n",
    "    \"\"\"Slot function.\"\"\"\n",
    "    msg.setText(text)\n",
    "\n",
    "msg = QLabel('')\n",
    "msg.setStyleSheet(\"QLabel { background-color : red; color : blue; }\");\n",
    "msg.setAlignment()\n",
    "layout = QGridLayout()  \n",
    "\n",
    "btnEN = QPushButton('English')\n",
    "btnEN.clicked.connect(lambda: greeting(\"<h1>Hello World!</h1>\"))\n",
    "\n",
    "btnDE = QPushButton('Deutsch')\n",
    "btnDE.clicked.connect(lambda: greeting(\"<h1>Hallo Welt!</h1>\"))\n",
    "\n",
    "layout.addWidget(msg, 0, 0, 1, 2, QtCore.Qt.AlignVCenter | QtCore.Qt.AlignHCenter)\n",
    "layout.addWidget(btnEN, 1, 0)\n",
    "layout.addWidget(btnDE, 1, 1)\n",
    "\n",
    "window.setLayout(layout)\n",
    "\n",
    "# 4. Show your application's GUI\n",
    "window.show()\n",
    "\n",
    "# 5. Run your application's event loop (or main loop)\n",
    "sys.exit(app.exec_())"
   ]
  },
  {
   "cell_type": "code",
   "execution_count": null,
   "id": "9aa2d1b4",
   "metadata": {},
   "outputs": [],
   "source": []
  },
  {
   "cell_type": "code",
   "execution_count": null,
   "id": "9006f878",
   "metadata": {},
   "outputs": [],
   "source": []
  },
  {
   "cell_type": "code",
   "execution_count": null,
   "id": "6704dd87",
   "metadata": {},
   "outputs": [],
   "source": []
  }
 ],
 "metadata": {
  "kernelspec": {
   "display_name": "Python 3",
   "language": "python",
   "name": "python3"
  }
 },
 "nbformat": 4,
 "nbformat_minor": 5
}
